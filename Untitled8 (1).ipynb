{
  "nbformat": 4,
  "nbformat_minor": 0,
  "metadata": {
    "colab": {
      "provenance": []
    },
    "kernelspec": {
      "name": "python3",
      "display_name": "Python 3"
    },
    "language_info": {
      "name": "python"
    }
  },
  "cells": [
    {
      "cell_type": "code",
      "execution_count": null,
      "metadata": {
        "colab": {
          "base_uri": "https://localhost:8080/",
          "height": 131
        },
        "id": "2pvlCmL8vF33",
        "outputId": "2d900581-a414-416d-870b-080f46cd3258"
      },
      "outputs": [
        {
          "output_type": "error",
          "ename": "SyntaxError",
          "evalue": "ignored",
          "traceback": [
            "\u001b[0;36m  File \u001b[0;32m\"<ipython-input-4-fbbce8e015de>\"\u001b[0;36m, line \u001b[0;32m90\u001b[0m\n\u001b[0;31m    for n\u001b[0m\n\u001b[0m         ^\u001b[0m\n\u001b[0;31mSyntaxError\u001b[0m\u001b[0;31m:\u001b[0m invalid syntax\n"
          ]
        }
      ],
      "source": [
        "import matplotlib.pyplot as plt\n",
        "\n",
        "def a(n):\n",
        "    # Defina aqui a sua sequência\n",
        "    return 1/n\n",
        "\n",
        "def sequencia_convergente(L, eps, nmin, nmax):\n",
        "    print(\"Tabela de valores:\")\n",
        "    print(\"n\\tan\")\n",
        "    for n in range(nmin, nmax+1):\n",
        "        an = a(n)\n",
        "        print(f\"{n}\\t{an}\")\n",
        "    print(\"\\n\")\n",
        "    \n",
        "    plt.figure(figsize=(10,6))\n",
        "    plt.xlabel(\"n\")\n",
        "    plt.ylabel(\"a(n)\")\n",
        "    plt.title(\"Sequência Convergente\")\n",
        "    \n",
        "    xs = list(range(nmin, nmax+1))\n",
        "    ys = [a(x) for x in xs]\n",
        "    plt.plot(xs, ys, 'ro', label=\"a(n)\")\n",
        "    \n",
        "    plt.axhline(y=L, color='g', linestyle='-', label=\"L\")\n",
        "    plt.axhline(y=L+eps, color='r', linestyle='--', label=\"L+eps\")\n",
        "    plt.axhline(y=L-eps, color='r', linestyle='--', label=\"L-eps\")\n",
        "    \n",
        "    plt.legend()\n",
        "    plt.show()\n",
        "\n",
        "def sequencia_limitada(K, M, nmin, nmax):\n",
        "    print(\"Tabela de valores:\")\n",
        "    print(\"n\\tan\")\n",
        "    for n in range(nmin, nmax+1):\n",
        "        an = a(n)\n",
        "        print(f\"{n}\\t{an}\")\n",
        "    print(\"\\n\")\n",
        "    \n",
        "    plt.figure(figsize=(10,6))\n",
        "    plt.xlabel(\"n\")\n",
        "    plt.ylabel(\"a(n)\")\n",
        "    plt.title(\"Sequência Limitada e Divergente\")\n",
        "    \n",
        "    xs = list(range(nmin, nmax+1))\n",
        "    ys = [a(x) for x in xs]\n",
        "    plt.plot(xs, ys, 'ro', label=\"a(n)\")\n",
        "    \n",
        "    plt.axhline(y=K, color='g', linestyle='-', label=\"K\")\n",
        "    plt.axhline(y=M, color='r', linestyle='-', label=\"M\")\n",
        "    \n",
        "    plt.legend()\n",
        "    plt.show()\n",
        "\n",
        "def sequencia_nao_limitada(M, nmin, nmax):\n",
        "    print(\"Tabela de valores:\")\n",
        "    print(\"n\\tan\")\n",
        "    for n in range(nmin, nmax+1):\n",
        "        an = a(n)\n",
        "        print(f\"{n}\\t{an}\")\n",
        "    print(\"\\n\")\n",
        "    \n",
        "    plt.figure(figsize=(10,6))\n",
        "    plt.xlabel(\"n\")\n",
        "    plt.ylabel(\"a(n)\")\n",
        "    plt.title(\"Sequência Não Limitada\")\n",
        "    \n",
        "    xs = list(range(nmin, nmax+1))\n",
        "    ys = [a(x) for x in xs]\n",
        "    plt.plot(xs, ys, 'ro', label=\"a(n)\")\n",
        "    \n",
        "    plt.axhline(y=M, color='r', linestyle='-', label=\"M\")\n",
        "    \n",
        "    plt.legend()\n",
        "    plt.show()\n",
        "\n",
        "# Menu principal\n",
        "print(\"Escolha o tipo de sequência:\")\n",
        "print(\"1 - Sequência de limitação e convergência desconhecidas (teste de averiguação)\")\n",
        "print(\"2 - Sequência sabidamente convergente\")\n",
        "print(\"3 - Sequência sabidamente limitada porém divergente\")\n",
        "print(\"4 - Sequência sabidamente não limitada\")\n",
        "\n",
        "opcao = int(input(\"Opção: \"))\n",
        "\n",
        "if opcao == 1:\n",
        "    nmin = int(input(\"Digite o valor mínimo de n: \"))\n",
        "    nmax = int(input(\"Digite o valor máximo de n: \"))\n",
        "    print(\"Tabela de valores:\")\n",
        "    print(\"n\\tan\")\n",
        "    for n"
      ]
    },
    {
      "cell_type": "code",
      "source": [
        "def a(n):\n",
        "    return n/(n+1)\n",
        "\n",
        "opcao = int(input(\"Escolha uma opção de sequência: \\n 1. Sequência de limitação e convergência desconhecidas \\n 2. Sequência sabidamente convergente \\n 3. Sequência sabidamente limitada porém divergente \\n 4. Sequência sabidamente não limitada \\n\"))\n",
        "\n",
        "if opcao == 1:\n",
        "    print(\"Sequência de limitação e convergência desconhecidas:\")\n",
        "    for n in range(1, 11):\n",
        "        print(a(n))\n",
        "elif opcao == 2:\n",
        "    print(\"Sequência sabidamente convergente:\")\n",
        "    for n in range(1, 11):\n",
        "        print(1/n)\n",
        "elif opcao == 3:\n",
        "    print(\"Sequência sabidamente limitada porém divergente:\")\n",
        "    for n in range(1, 11):\n",
        "        print((-1)**n)\n",
        "elif opcao == 4:\n",
        "    print(\"Sequência sabidamente não limitada:\")\n",
        "    for n in range(1, 11):\n",
        "        print(n)\n",
        "else:\n",
        "    print(\"Opção inválida. Por favor, escolha uma opção entre 1 e 4.\")\n"
      ],
      "metadata": {
        "colab": {
          "base_uri": "https://localhost:8080/"
        },
        "id": "NI-TYHstwr0r",
        "outputId": "1738321f-bd10-4289-d19b-2091a2425860"
      },
      "execution_count": 5,
      "outputs": [
        {
          "output_type": "stream",
          "name": "stdout",
          "text": [
            "Escolha uma opção de sequência: \n",
            " 1. Sequência de limitação e convergência desconhecidas \n",
            " 2. Sequência sabidamente convergente \n",
            " 3. Sequência sabidamente limitada porém divergente \n",
            " 4. Sequência sabidamente não limitada \n",
            "1\n",
            "Sequência de limitação e convergência desconhecidas:\n",
            "0.5\n",
            "0.6666666666666666\n",
            "0.75\n",
            "0.8\n",
            "0.8333333333333334\n",
            "0.8571428571428571\n",
            "0.875\n",
            "0.8888888888888888\n",
            "0.9\n",
            "0.9090909090909091\n"
          ]
        }
      ]
    },
    {
      "cell_type": "code",
      "source": [
        "def a(n):\n",
        "    # Definir aqui a função que calcula o termo geral a(n) da sequência\n",
        "\n",
        "# Ler o número máximo de termos da sequência a serem verificados\n",
        "N = int(input(\"Digite o número máximo de termos a serem verificados: \"))\n",
        "\n",
        "# Verificar se a sequência é crescente sem limite\n",
        "crescente_sem_limite = True\n",
        "for n in range(1, N):\n",
        "    if a(n) >= a(n+1):\n",
        "        crescente_sem_limite = False\n",
        "        break\n",
        "if crescente_sem_limite:\n",
        "    print(\"A sequência é crescente sem limite.\")\n",
        "    \n",
        "# Verificar se a sequência é decrescente sem limite\n",
        "decrescente_sem_limite = True\n",
        "for n in range(1, N):\n",
        "    if a(n) <= a(n+1):\n",
        "        decrescente_sem_limite = False\n",
        "        break\n",
        "if decrescente_sem_limite:\n",
        "    print(\"A sequência é decrescente sem limite.\")\n",
        "    \n",
        "if not crescente_sem_limite and not decrescente_sem_limite:\n",
        "    print(\"A sequência não é nem crescente nem decrescente sem limite.\")\n"
      ],
      "metadata": {
        "id": "m74MdEM4xD2P",
        "outputId": "10586422-d110-475c-c36b-ac4a2bc85c78",
        "colab": {
          "base_uri": "https://localhost:8080/",
          "height": 131
        }
      },
      "execution_count": 6,
      "outputs": [
        {
          "output_type": "error",
          "ename": "IndentationError",
          "evalue": "ignored",
          "traceback": [
            "\u001b[0;36m  File \u001b[0;32m\"<ipython-input-6-ce75bc0f86a6>\"\u001b[0;36m, line \u001b[0;32m5\u001b[0m\n\u001b[0;31m    N = int(input(\"Digite o número máximo de termos a serem verificados: \"))\u001b[0m\n\u001b[0m    ^\u001b[0m\n\u001b[0;31mIndentationError\u001b[0m\u001b[0;31m:\u001b[0m expected an indented block\n"
          ]
        }
      ]
    }
  ]
}