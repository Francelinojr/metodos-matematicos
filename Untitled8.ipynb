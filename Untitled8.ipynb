{
  "nbformat": 4,
  "nbformat_minor": 0,
  "metadata": {
    "colab": {
      "provenance": []
    },
    "kernelspec": {
      "name": "python3",
      "display_name": "Python 3"
    },
    "language_info": {
      "name": "python"
    }
  },
  "cells": [
    {
      "cell_type": "code",
      "execution_count": 4,
      "metadata": {
        "colab": {
          "base_uri": "https://localhost:8080/",
          "height": 131
        },
        "id": "2pvlCmL8vF33",
        "outputId": "2d900581-a414-416d-870b-080f46cd3258"
      },
      "outputs": [
        {
          "output_type": "error",
          "ename": "SyntaxError",
          "evalue": "ignored",
          "traceback": [
            "\u001b[0;36m  File \u001b[0;32m\"<ipython-input-4-fbbce8e015de>\"\u001b[0;36m, line \u001b[0;32m90\u001b[0m\n\u001b[0;31m    for n\u001b[0m\n\u001b[0m         ^\u001b[0m\n\u001b[0;31mSyntaxError\u001b[0m\u001b[0;31m:\u001b[0m invalid syntax\n"
          ]
        }
      ],
      "source": [
        "import matplotlib.pyplot as plt\n",
        "\n",
        "def a(n):\n",
        "    # Defina aqui a sua sequência\n",
        "    return 1/n\n",
        "\n",
        "def sequencia_convergente(L, eps, nmin, nmax):\n",
        "    print(\"Tabela de valores:\")\n",
        "    print(\"n\\tan\")\n",
        "    for n in range(nmin, nmax+1):\n",
        "        an = a(n)\n",
        "        print(f\"{n}\\t{an}\")\n",
        "    print(\"\\n\")\n",
        "    \n",
        "    plt.figure(figsize=(10,6))\n",
        "    plt.xlabel(\"n\")\n",
        "    plt.ylabel(\"a(n)\")\n",
        "    plt.title(\"Sequência Convergente\")\n",
        "    \n",
        "    xs = list(range(nmin, nmax+1))\n",
        "    ys = [a(x) for x in xs]\n",
        "    plt.plot(xs, ys, 'ro', label=\"a(n)\")\n",
        "    \n",
        "    plt.axhline(y=L, color='g', linestyle='-', label=\"L\")\n",
        "    plt.axhline(y=L+eps, color='r', linestyle='--', label=\"L+eps\")\n",
        "    plt.axhline(y=L-eps, color='r', linestyle='--', label=\"L-eps\")\n",
        "    \n",
        "    plt.legend()\n",
        "    plt.show()\n",
        "\n",
        "def sequencia_limitada(K, M, nmin, nmax):\n",
        "    print(\"Tabela de valores:\")\n",
        "    print(\"n\\tan\")\n",
        "    for n in range(nmin, nmax+1):\n",
        "        an = a(n)\n",
        "        print(f\"{n}\\t{an}\")\n",
        "    print(\"\\n\")\n",
        "    \n",
        "    plt.figure(figsize=(10,6))\n",
        "    plt.xlabel(\"n\")\n",
        "    plt.ylabel(\"a(n)\")\n",
        "    plt.title(\"Sequência Limitada e Divergente\")\n",
        "    \n",
        "    xs = list(range(nmin, nmax+1))\n",
        "    ys = [a(x) for x in xs]\n",
        "    plt.plot(xs, ys, 'ro', label=\"a(n)\")\n",
        "    \n",
        "    plt.axhline(y=K, color='g', linestyle='-', label=\"K\")\n",
        "    plt.axhline(y=M, color='r', linestyle='-', label=\"M\")\n",
        "    \n",
        "    plt.legend()\n",
        "    plt.show()\n",
        "\n",
        "def sequencia_nao_limitada(M, nmin, nmax):\n",
        "    print(\"Tabela de valores:\")\n",
        "    print(\"n\\tan\")\n",
        "    for n in range(nmin, nmax+1):\n",
        "        an = a(n)\n",
        "        print(f\"{n}\\t{an}\")\n",
        "    print(\"\\n\")\n",
        "    \n",
        "    plt.figure(figsize=(10,6))\n",
        "    plt.xlabel(\"n\")\n",
        "    plt.ylabel(\"a(n)\")\n",
        "    plt.title(\"Sequência Não Limitada\")\n",
        "    \n",
        "    xs = list(range(nmin, nmax+1))\n",
        "    ys = [a(x) for x in xs]\n",
        "    plt.plot(xs, ys, 'ro', label=\"a(n)\")\n",
        "    \n",
        "    plt.axhline(y=M, color='r', linestyle='-', label=\"M\")\n",
        "    \n",
        "    plt.legend()\n",
        "    plt.show()\n",
        "\n",
        "# Menu principal\n",
        "print(\"Escolha o tipo de sequência:\")\n",
        "print(\"1 - Sequência de limitação e convergência desconhecidas (teste de averiguação)\")\n",
        "print(\"2 - Sequência sabidamente convergente\")\n",
        "print(\"3 - Sequência sabidamente limitada porém divergente\")\n",
        "print(\"4 - Sequência sabidamente não limitada\")\n",
        "\n",
        "opcao = int(input(\"Opção: \"))\n",
        "\n",
        "if opcao == 1:\n",
        "    nmin = int(input(\"Digite o valor mínimo de n: \"))\n",
        "    nmax = int(input(\"Digite o valor máximo de n: \"))\n",
        "    print(\"Tabela de valores:\")\n",
        "    print(\"n\\tan\")\n",
        "    for n"
      ]
    }
  ]
}